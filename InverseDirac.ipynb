{
  "nbformat": 4,
  "nbformat_minor": 0,
  "metadata": {
    "colab": {
      "provenance": []
    },
    "kernelspec": {
      "name": "python3",
      "display_name": "Python 3"
    },
    "language_info": {
      "name": "python"
    }
  },
  "cells": [
    {
      "cell_type": "markdown",
      "source": [
        "# ***Inversion of Dirac Matrix***\n",
        "\n",
        "*   Authors: *Dhruv Patel and Anselem Okeke*\n",
        "*   Matriculation no.'s: *2130292 and 1943585*\n",
        "*   Subject: *Introduction to Computer Simulation II*\n",
        "*   Semester: *Winter Term 2022/2023*\n",
        "*   Date: *30th January, 2023*"
      ],
      "metadata": {
        "id": "TTD9CSp5rUzY"
      }
    },
    {
      "cell_type": "markdown",
      "source": [
        "---------"
      ],
      "metadata": {
        "id": "_frSce8NrWg-"
      }
    },
    {
      "cell_type": "code",
      "execution_count": null,
      "metadata": {
        "id": "04ER0bw0rHt8"
      },
      "outputs": [],
      "source": [
        "import numpy as np\n",
        "\n",
        "def create_lattice(N1, N2):\n",
        "    lattice = np.zeros((N1, N2), dtype=complex)\n",
        "    return lattice\n",
        "\n",
        "def create_gauge_field(lattice, a):\n",
        "    N1, N2 = lattice.shape\n",
        "    for i in range(N1):\n",
        "        for j in range(N2):\n",
        "            lattice[i][j] = np.exp(1j * a[i][j])\n",
        "    return lattice\n",
        "\n",
        "N1 = 10\n",
        "N2 = 10\n",
        "lattice = create_lattice(N1, N2)\n",
        "a = np.random.rand(N1, N2)\n",
        "gauge_field = create_gauge_field(lattice, a)"
      ]
    },
    {
      "cell_type": "code",
      "source": [
        "import numpy as np\n",
        "\n",
        "def create_dirac_matrix(N1, N2, m, U1, U2):\n",
        "    Dxy = np.zeros((N1*N2, N1*N2), dtype=complex)\n",
        "    for x1 in range(N1):\n",
        "        for x2 in range(N2):\n",
        "            x = x1 * N2 + x2\n",
        "            for y1 in range(N1):\n",
        "                for y2 in range(N2):\n",
        "                    y = y1 * N2 + y2\n",
        "                    if x1 == y1 and x2 == y2:\n",
        "                        Dxy[x][y] = m\n",
        "                    if x1 + 1 == y1 and x2 == y2:\n",
        "                        Dxy[x][y] += U1[x1][x2]\n",
        "                    if x1 - 1 == y1 and x2 == y2:\n",
        "                        Dxy[x][y] -= np.conj(U1[y1][y2])\n",
        "                    if x1 == y1 and x2 + 1 == y2:\n",
        "                        if (x1 + x2) % 2 == 0:\n",
        "                            Dxy[x][y] += U2[x1][x2]\n",
        "                        else:\n",
        "                            Dxy[x][y] -= np.conj(U2[y1][y2])\n",
        "                    if x1 == y1 and x2 - 1 == y2:\n",
        "                        if (x1 + x2) % 2 == 0:\n",
        "                            Dxy[x][y] -= np.conj(U2[y1][y2])\n",
        "                        else:\n",
        "                            Dxy[x][y] += U2[x1][x2]\n",
        "    return Dxy\n",
        "\n",
        "N1 = 10\n",
        "N2 = 10\n",
        "m = 1.0\n",
        "U1 = np.random.rand(N1, N2)\n",
        "U2 = np.random.rand(N1, N2)\n",
        "Dxy = create_dirac_matrix(N1, N2, m, U1, U2)"
      ],
      "metadata": {
        "id": "rWeq4vn3rl7b"
      },
      "execution_count": null,
      "outputs": []
    },
    {
      "cell_type": "code",
      "source": [
        "import numpy as np\n",
        "\n",
        "def construct_neighbor_table(N1, N2):\n",
        "    n = np.zeros((4, N1*N2), dtype=int)\n",
        "    for x1 in range(N1):\n",
        "        for x2 in range(N2):\n",
        "            x = x1*N2 + x2\n",
        "            n[0,x] = x + (-1)*(x1+1)*N2 if x1 < N1-1 else x + (-1)*(x1+1)*N2 - N1*N2\n",
        "            n[1,x] = x - (-1)*(x1+1)*N2 if x1 > 0 else x - (-1)*(x1+1)*N2 + N1*N2\n",
        "            n[2,x] = x + 1 if x2 < N2-1 else x + 1 - N2\n",
        "            n[3,x] = x - 1 if x2 > 0 else x - 1 + N2\n",
        "    return n"
      ],
      "metadata": {
        "id": "XtRYaY-trtL9"
      },
      "execution_count": null,
      "outputs": []
    },
    {
      "cell_type": "code",
      "source": [
        "N1 = 10\n",
        "N2 = 20\n",
        "neighbor_table = construct_neighbor_table(N1, N2)"
      ],
      "metadata": {
        "id": "6hkq1WGerw-s"
      },
      "execution_count": null,
      "outputs": []
    },
    {
      "cell_type": "code",
      "source": [
        "import numpy as np\n",
        "\n",
        "def apply_matrix(v, N1, N2, neighbor_table):\n",
        "    v_new = np.zeros_like(v)\n",
        "    m = 0.4\n",
        "    for x in range(N1*N2):\n",
        "        v_new[x] += m*v[x]\n",
        "        for mu in range(4):\n",
        "            nx = neighbor_table[mu, x]\n",
        "            if nx != -1:\n",
        "                if mu == 0 or mu == 1:\n",
        "                    v_new[nx] += v[x]\n",
        "                else:\n",
        "                    if (x//N2)%2 == 0:\n",
        "                        v_new[nx] -= v[x]\n",
        "                    else:\n",
        "                        v_new[nx] += v[x]\n",
        "    return v_new"
      ],
      "metadata": {
        "id": "0uBA4qNhr1Hv"
      },
      "execution_count": null,
      "outputs": []
    },
    {
      "cell_type": "code",
      "source": [
        "import numpy as np\n",
        "import matplotlib.pyplot as plt\n",
        "\n",
        "N1, N2 = 8, 8\n",
        "neighbor_table = construct_neighbor_table(N1, N2)\n",
        "\n",
        "matrix = np.zeros((N1*N2, N1*N2), dtype=np.complex64)\n",
        "for i in range(N1*N2):\n",
        "    e = np.zeros((N1*N2), dtype=np.complex64)\n",
        "    e[i] = 1.0\n",
        "    matrix[:, i] = apply_matrix(e, N1, N2, neighbor_table)\n",
        "\n",
        "magnitudes = np.abs(matrix)\n",
        "plt.imshow(magnitudes, cmap='hot')\n",
        "plt.show()"
      ],
      "metadata": {
        "colab": {
          "base_uri": "https://localhost:8080/",
          "height": 371
        },
        "id": "Q_Vi4pnxskD9",
        "outputId": "f1d72dd8-8196-427c-a585-f8293176f7e4"
      },
      "execution_count": null,
      "outputs": [
        {
          "output_type": "error",
          "ename": "IndexError",
          "evalue": "ignored",
          "traceback": [
            "\u001b[0;31m---------------------------------------------------------------------------\u001b[0m",
            "\u001b[0;31mIndexError\u001b[0m                                Traceback (most recent call last)",
            "\u001b[0;32m<ipython-input-6-4a55f1fe2d2d>\u001b[0m in \u001b[0;36m<module>\u001b[0;34m\u001b[0m\n\u001b[1;32m      9\u001b[0m     \u001b[0me\u001b[0m \u001b[0;34m=\u001b[0m \u001b[0mnp\u001b[0m\u001b[0;34m.\u001b[0m\u001b[0mzeros\u001b[0m\u001b[0;34m(\u001b[0m\u001b[0;34m(\u001b[0m\u001b[0mN1\u001b[0m\u001b[0;34m*\u001b[0m\u001b[0mN2\u001b[0m\u001b[0;34m)\u001b[0m\u001b[0;34m,\u001b[0m \u001b[0mdtype\u001b[0m\u001b[0;34m=\u001b[0m\u001b[0mnp\u001b[0m\u001b[0;34m.\u001b[0m\u001b[0mcomplex64\u001b[0m\u001b[0;34m)\u001b[0m\u001b[0;34m\u001b[0m\u001b[0;34m\u001b[0m\u001b[0m\n\u001b[1;32m     10\u001b[0m     \u001b[0me\u001b[0m\u001b[0;34m[\u001b[0m\u001b[0mi\u001b[0m\u001b[0;34m]\u001b[0m \u001b[0;34m=\u001b[0m \u001b[0;36m1.0\u001b[0m\u001b[0;34m\u001b[0m\u001b[0;34m\u001b[0m\u001b[0m\n\u001b[0;32m---> 11\u001b[0;31m     \u001b[0mmatrix\u001b[0m\u001b[0;34m[\u001b[0m\u001b[0;34m:\u001b[0m\u001b[0;34m,\u001b[0m \u001b[0mi\u001b[0m\u001b[0;34m]\u001b[0m \u001b[0;34m=\u001b[0m \u001b[0mapply_matrix\u001b[0m\u001b[0;34m(\u001b[0m\u001b[0me\u001b[0m\u001b[0;34m,\u001b[0m \u001b[0mN1\u001b[0m\u001b[0;34m,\u001b[0m \u001b[0mN2\u001b[0m\u001b[0;34m,\u001b[0m \u001b[0mneighbor_table\u001b[0m\u001b[0;34m)\u001b[0m\u001b[0;34m\u001b[0m\u001b[0;34m\u001b[0m\u001b[0m\n\u001b[0m\u001b[1;32m     12\u001b[0m \u001b[0;34m\u001b[0m\u001b[0m\n\u001b[1;32m     13\u001b[0m \u001b[0mmagnitudes\u001b[0m \u001b[0;34m=\u001b[0m \u001b[0mnp\u001b[0m\u001b[0;34m.\u001b[0m\u001b[0mabs\u001b[0m\u001b[0;34m(\u001b[0m\u001b[0mmatrix\u001b[0m\u001b[0;34m)\u001b[0m\u001b[0;34m\u001b[0m\u001b[0;34m\u001b[0m\u001b[0m\n",
            "\u001b[0;32m<ipython-input-5-fe18b47e2a5e>\u001b[0m in \u001b[0;36mapply_matrix\u001b[0;34m(v, N1, N2, neighbor_table)\u001b[0m\n\u001b[1;32m     10\u001b[0m             \u001b[0;32mif\u001b[0m \u001b[0mnx\u001b[0m \u001b[0;34m!=\u001b[0m \u001b[0;34m-\u001b[0m\u001b[0;36m1\u001b[0m\u001b[0;34m:\u001b[0m\u001b[0;34m\u001b[0m\u001b[0;34m\u001b[0m\u001b[0m\n\u001b[1;32m     11\u001b[0m                 \u001b[0;32mif\u001b[0m \u001b[0mmu\u001b[0m \u001b[0;34m==\u001b[0m \u001b[0;36m0\u001b[0m \u001b[0;32mor\u001b[0m \u001b[0mmu\u001b[0m \u001b[0;34m==\u001b[0m \u001b[0;36m1\u001b[0m\u001b[0;34m:\u001b[0m\u001b[0;34m\u001b[0m\u001b[0;34m\u001b[0m\u001b[0m\n\u001b[0;32m---> 12\u001b[0;31m                     \u001b[0mv_new\u001b[0m\u001b[0;34m[\u001b[0m\u001b[0mnx\u001b[0m\u001b[0;34m]\u001b[0m \u001b[0;34m+=\u001b[0m \u001b[0mv\u001b[0m\u001b[0;34m[\u001b[0m\u001b[0mx\u001b[0m\u001b[0;34m]\u001b[0m\u001b[0;34m\u001b[0m\u001b[0;34m\u001b[0m\u001b[0m\n\u001b[0m\u001b[1;32m     13\u001b[0m                 \u001b[0;32melse\u001b[0m\u001b[0;34m:\u001b[0m\u001b[0;34m\u001b[0m\u001b[0;34m\u001b[0m\u001b[0m\n\u001b[1;32m     14\u001b[0m                     \u001b[0;32mif\u001b[0m \u001b[0;34m(\u001b[0m\u001b[0mx\u001b[0m\u001b[0;34m//\u001b[0m\u001b[0mN2\u001b[0m\u001b[0;34m)\u001b[0m\u001b[0;34m%\u001b[0m\u001b[0;36m2\u001b[0m \u001b[0;34m==\u001b[0m \u001b[0;36m0\u001b[0m\u001b[0;34m:\u001b[0m\u001b[0;34m\u001b[0m\u001b[0;34m\u001b[0m\u001b[0m\n",
            "\u001b[0;31mIndexError\u001b[0m: index 72 is out of bounds for axis 0 with size 64"
          ]
        }
      ]
    },
    {
      "cell_type": "code",
      "source": [
        "def CG(A, b, tol, max_iter):\n",
        "    # Initialize x and residual\n",
        "    x = np.zeros_like(b)\n",
        "    r = b - np.dot(A, x)\n",
        "    p = r.copy()\n",
        "    for i in range(max_iter):\n",
        "        # Calculate alpha\n",
        "        alpha = np.dot(r, r) / np.dot(np.dot(A, p), p)\n",
        "        # Update x and residual\n",
        "        x = x + alpha * p\n",
        "        r = b - np.dot(A, x)\n",
        "        # Check for convergence\n",
        "        if np.linalg.norm(r) < tol:\n",
        "            break\n",
        "        # Update direction\n",
        "        beta = np.dot(r, r) / np.dot(r, p)\n",
        "        p = r + beta * p\n",
        "    return x\n",
        "\n",
        "def calculate_D_inv(D, tol, max_iter):\n",
        "    N = D.shape[0]\n",
        "    D_inv = np.zeros((N, N))\n",
        "    for i in range(N):\n",
        "        ei = np.zeros\n",
        "        ei[i] = 1\n",
        "        D_star_ei = np.dot(D.conj().T, ei)\n",
        "        D_star_D = np.dot(D.conj().T, D)\n",
        "        r = CG(D_star_D, D_star_ei, tol, max_iter)\n",
        "        D_inv[:, i] = r\n",
        "    return D_inv"
      ],
      "metadata": {
        "id": "3K6z6C_Bsx9g"
      },
      "execution_count": null,
      "outputs": []
    },
    {
      "cell_type": "code",
      "source": [
        "import numpy as np\n",
        "import matplotlib.pyplot as plt\n",
        "\n",
        "def plot_matrix(matrix):\n",
        "    plt.imshow(np.abs(matrix), cmap='hot')\n",
        "    plt.colorbar()\n",
        "    plt.show()\n",
        "\n",
        "# Example matrix\n",
        "D = np.array([[1, 2, 3], [4, 5, 6], [7, 8, 9]])\n",
        "\n",
        "plot_matrix(D)"
      ],
      "metadata": {
        "colab": {
          "base_uri": "https://localhost:8080/",
          "height": 269
        },
        "id": "YgaXvrNSs7u-",
        "outputId": "2cde07ae-434e-4c31-f12a-c7ac9fc47e0e"
      },
      "execution_count": null,
      "outputs": [
        {
          "output_type": "display_data",
          "data": {
            "text/plain": [
              "<Figure size 432x288 with 2 Axes>"
            ],
            "image/png": "[encoded data removed]"
          },
          "metadata": {
            "needs_background": "light"
          }
        }
      ]
    },
    {
      "cell_type": "code",
      "source": [
        "import numpy as np\n",
        "import matplotlib.pyplot as plt\n",
        "\n",
        "def correlation_function(D_inv, N1, N2, t):\n",
        "    C = np.zeros(N2)\n",
        "    for x2 in range(N2):\n",
        "        for x1 in range(N1):\n",
        "            C[x2] += np.abs(D_inv[x1 + N1 * x2, x1 + N1 * ((x2 + t) % N2)])**2\n",
        "    return C / N1\n",
        "\n",
        "# Example using a sample D_inv matrix and N1 = 8, N2 = 8\n",
        "D_inv = np.random.rand(64, 64)\n",
        "N1, N2 = 8, 8\n",
        "t_range = np.arange(N2)\n",
        "C = correlation_function(D_inv, N1, N2, t_range)\n",
        "\n",
        "plt.plot(t_range, np.log(C), 'o-')\n",
        "plt.xlabel('t')\n",
        "plt.ylabel('log(C(t))')\n",
        "plt.title('Correlation function C(t)')\n",
        "plt.show()"
      ],
      "metadata": {
        "colab": {
          "base_uri": "https://localhost:8080/",
          "height": 463
        },
        "id": "swenZLHws8Rm",
        "outputId": "43cf7f36-2862-432a-f73e-76040a0dcc04"
      },
      "execution_count": null,
      "outputs": [
        {
          "output_type": "error",
          "ename": "ValueError",
          "evalue": "ignored",
          "traceback": [
            "\u001b[0;31m---------------------------------------------------------------------------\u001b[0m",
            "\u001b[0;31mTypeError\u001b[0m                                 Traceback (most recent call last)",
            "\u001b[0;31mTypeError\u001b[0m: only size-1 arrays can be converted to Python scalars",
            "\nThe above exception was the direct cause of the following exception:\n",
            "\u001b[0;31mValueError\u001b[0m                                Traceback (most recent call last)",
            "\u001b[0;32m<ipython-input-9-3524726f7940>\u001b[0m in \u001b[0;36m<module>\u001b[0;34m\u001b[0m\n\u001b[1;32m     13\u001b[0m \u001b[0mN1\u001b[0m\u001b[0;34m,\u001b[0m \u001b[0mN2\u001b[0m \u001b[0;34m=\u001b[0m \u001b[0;36m8\u001b[0m\u001b[0;34m,\u001b[0m \u001b[0;36m8\u001b[0m\u001b[0;34m\u001b[0m\u001b[0;34m\u001b[0m\u001b[0m\n\u001b[1;32m     14\u001b[0m \u001b[0mt_range\u001b[0m \u001b[0;34m=\u001b[0m \u001b[0mnp\u001b[0m\u001b[0;34m.\u001b[0m\u001b[0marange\u001b[0m\u001b[0;34m(\u001b[0m\u001b[0mN2\u001b[0m\u001b[0;34m)\u001b[0m\u001b[0;34m\u001b[0m\u001b[0;34m\u001b[0m\u001b[0m\n\u001b[0;32m---> 15\u001b[0;31m \u001b[0mC\u001b[0m \u001b[0;34m=\u001b[0m \u001b[0mcorrelation_function\u001b[0m\u001b[0;34m(\u001b[0m\u001b[0mD_inv\u001b[0m\u001b[0;34m,\u001b[0m \u001b[0mN1\u001b[0m\u001b[0;34m,\u001b[0m \u001b[0mN2\u001b[0m\u001b[0;34m,\u001b[0m \u001b[0mt_range\u001b[0m\u001b[0;34m)\u001b[0m\u001b[0;34m\u001b[0m\u001b[0;34m\u001b[0m\u001b[0m\n\u001b[0m\u001b[1;32m     16\u001b[0m \u001b[0;34m\u001b[0m\u001b[0m\n\u001b[1;32m     17\u001b[0m \u001b[0mplt\u001b[0m\u001b[0;34m.\u001b[0m\u001b[0mplot\u001b[0m\u001b[0;34m(\u001b[0m\u001b[0mt_range\u001b[0m\u001b[0;34m,\u001b[0m \u001b[0mnp\u001b[0m\u001b[0;34m.\u001b[0m\u001b[0mlog\u001b[0m\u001b[0;34m(\u001b[0m\u001b[0mC\u001b[0m\u001b[0;34m)\u001b[0m\u001b[0;34m,\u001b[0m \u001b[0;34m'o-'\u001b[0m\u001b[0;34m)\u001b[0m\u001b[0;34m\u001b[0m\u001b[0;34m\u001b[0m\u001b[0m\n",
            "\u001b[0;32m<ipython-input-9-3524726f7940>\u001b[0m in \u001b[0;36mcorrelation_function\u001b[0;34m(D_inv, N1, N2, t)\u001b[0m\n\u001b[1;32m      6\u001b[0m     \u001b[0;32mfor\u001b[0m \u001b[0mx2\u001b[0m \u001b[0;32min\u001b[0m \u001b[0mrange\u001b[0m\u001b[0;34m(\u001b[0m\u001b[0mN2\u001b[0m\u001b[0;34m)\u001b[0m\u001b[0;34m:\u001b[0m\u001b[0;34m\u001b[0m\u001b[0;34m\u001b[0m\u001b[0m\n\u001b[1;32m      7\u001b[0m         \u001b[0;32mfor\u001b[0m \u001b[0mx1\u001b[0m \u001b[0;32min\u001b[0m \u001b[0mrange\u001b[0m\u001b[0;34m(\u001b[0m\u001b[0mN1\u001b[0m\u001b[0;34m)\u001b[0m\u001b[0;34m:\u001b[0m\u001b[0;34m\u001b[0m\u001b[0;34m\u001b[0m\u001b[0m\n\u001b[0;32m----> 8\u001b[0;31m             \u001b[0mC\u001b[0m\u001b[0;34m[\u001b[0m\u001b[0mx2\u001b[0m\u001b[0;34m]\u001b[0m \u001b[0;34m+=\u001b[0m \u001b[0mnp\u001b[0m\u001b[0;34m.\u001b[0m\u001b[0mabs\u001b[0m\u001b[0;34m(\u001b[0m\u001b[0mD_inv\u001b[0m\u001b[0;34m[\u001b[0m\u001b[0mx1\u001b[0m \u001b[0;34m+\u001b[0m \u001b[0mN1\u001b[0m \u001b[0;34m*\u001b[0m \u001b[0mx2\u001b[0m\u001b[0;34m,\u001b[0m \u001b[0mx1\u001b[0m \u001b[0;34m+\u001b[0m \u001b[0mN1\u001b[0m \u001b[0;34m*\u001b[0m \u001b[0;34m(\u001b[0m\u001b[0;34m(\u001b[0m\u001b[0mx2\u001b[0m \u001b[0;34m+\u001b[0m \u001b[0mt\u001b[0m\u001b[0;34m)\u001b[0m \u001b[0;34m%\u001b[0m \u001b[0mN2\u001b[0m\u001b[0;34m)\u001b[0m\u001b[0;34m]\u001b[0m\u001b[0;34m)\u001b[0m\u001b[0;34m**\u001b[0m\u001b[0;36m2\u001b[0m\u001b[0;34m\u001b[0m\u001b[0;34m\u001b[0m\u001b[0m\n\u001b[0m\u001b[1;32m      9\u001b[0m     \u001b[0;32mreturn\u001b[0m \u001b[0mC\u001b[0m \u001b[0;34m/\u001b[0m \u001b[0mN1\u001b[0m\u001b[0;34m\u001b[0m\u001b[0;34m\u001b[0m\u001b[0m\n\u001b[1;32m     10\u001b[0m \u001b[0;34m\u001b[0m\u001b[0m\n",
            "\u001b[0;31mValueError\u001b[0m: setting an array element with a sequence."
          ]
        }
      ]
    },
    {
      "cell_type": "code",
      "source": [
        "def apply_D(m, U1, U2, v, neighbor_table):\n",
        "    N1, N2 = len(v) // N2, len(v) % N2\n",
        "    result = np.zeros(N1 * N2)\n",
        "    for x in range(N1 * N2):\n",
        "        result[x] = m * v[x]\n",
        "        for mu in range(4):\n",
        "            y = neighbor_table[mu, x]\n",
        "            if mu == 0:\n",
        "                result[x] += U1[x] * v[y] - np.conj(U1[y]) * v[x]\n",
        "            elif mu == 1:\n",
        "                result[x] += -1.0 ** x // N2 * (U2[x] * v[y] - np.conj(U2[y]) * v[x])\n",
        "            elif mu == 2:\n",
        "                result[x] += np.conj(U1[x - 1]) * v[y] - U1[y + 1] * v[x]\n",
        "            elif mu == 3:\n",
        "                result[x] += -1.0 ** x // N2 * (np.conj(U2[x - N2]) * v[y] - U2[y + N2] * v[x])\n",
        "    return result"
      ],
      "metadata": {
        "id": "JnA2Qzpjs_r2"
      },
      "execution_count": null,
      "outputs": []
    },
    {
      "cell_type": "code",
      "source": [
        "import numpy as np\n",
        "import matplotlib.pyplot as plt\n",
        "\n",
        "def average_correlation_function(U_list, neighbor_table, N1, N2, t, m=0.4):\n",
        "    \"\"\"Computes the average correlation function over a list of gauge fields.\n",
        "\n",
        "    Args:\n",
        "    - U_list: list of 4D numpy arrays representing the gauge fields\n",
        "    - neighbor_table: 4 x N1N2 numpy array representing the neighbor table\n",
        "    - N1: number of lattice sites in the 1st dimension\n",
        "    - N2: number of lattice sites in the 2nd dimension\n",
        "    - t: distance in the 1st dimension\n",
        "    - m: scalar, mass parameter\n",
        "\n",
        "    Returns:\n",
        "    - scalar representing the average correlation function\n",
        "    \"\"\"\n",
        "    N = N1 * N2\n",
        "    C = 0\n",
        "    for i in range(N):\n",
        "        ei = np.zeros(N, dtype=np.complex)\n",
        "        ei[i] = 1\n",
        "        v = np.zeros(N, dtype=np.complex)\n",
        "        for U in U_list:\n",
        "            v += np.abs(np.linalg.solve(D, ei))**2\n",
        "        C += v[i + t*N2]\n",
        "    return C/N\n",
        "\n",
        "U_list = ... # List of gauge fields\n",
        "neighbor_table = construct_neighbor_table(N1, N2)\n",
        "\n",
        "t_list = np.arange(0, N1)\n",
        "C_list = [average_correlation_function(U_list, neighbor_table, N1, N2, t) for t in t_list]\n",
        "\n",
        "plt.plot(t_list, C_list)\n",
        "plt.xscale('log')\n",
        "plt.yscale('log')\n",
        "plt.xlabel('t')\n",
        "plt.ylabel('C(t)')\n",
        "plt.show()"
      ],
      "metadata": {
        "colab": {
          "base_uri": "https://localhost:8080/",
          "height": 525
        },
        "id": "RG0UJ66UuEq8",
        "outputId": "166fe01c-5336-4c72-b8cc-f4e1c8b7c61c"
      },
      "execution_count": null,
      "outputs": [
        {
          "output_type": "stream",
          "name": "stderr",
          "text": [
            "<ipython-input-11-bbcf4dacca1e>:21: DeprecationWarning: `np.complex` is a deprecated alias for the builtin `complex`. To silence this warning, use `complex` by itself. Doing this will not modify any behavior and is safe. If you specifically wanted the numpy scalar type, use `np.complex128` here.\n",
            "Deprecated in NumPy 1.20; for more details and guidance: https://numpy.org/devdocs/release/1.20.0-notes.html#deprecations\n",
            "  ei = np.zeros(N, dtype=np.complex)\n",
            "<ipython-input-11-bbcf4dacca1e>:23: DeprecationWarning: `np.complex` is a deprecated alias for the builtin `complex`. To silence this warning, use `complex` by itself. Doing this will not modify any behavior and is safe. If you specifically wanted the numpy scalar type, use `np.complex128` here.\n",
            "Deprecated in NumPy 1.20; for more details and guidance: https://numpy.org/devdocs/release/1.20.0-notes.html#deprecations\n",
            "  v = np.zeros(N, dtype=np.complex)\n"
          ]
        },
        {
          "output_type": "error",
          "ename": "TypeError",
          "evalue": "ignored",
          "traceback": [
            "\u001b[0;31m---------------------------------------------------------------------------\u001b[0m",
            "\u001b[0;31mTypeError\u001b[0m                                 Traceback (most recent call last)",
            "\u001b[0;32m<ipython-input-11-bbcf4dacca1e>\u001b[0m in \u001b[0;36m<module>\u001b[0;34m\u001b[0m\n\u001b[1;32m     31\u001b[0m \u001b[0;34m\u001b[0m\u001b[0m\n\u001b[1;32m     32\u001b[0m \u001b[0mt_list\u001b[0m \u001b[0;34m=\u001b[0m \u001b[0mnp\u001b[0m\u001b[0;34m.\u001b[0m\u001b[0marange\u001b[0m\u001b[0;34m(\u001b[0m\u001b[0;36m0\u001b[0m\u001b[0;34m,\u001b[0m \u001b[0mN1\u001b[0m\u001b[0;34m)\u001b[0m\u001b[0;34m\u001b[0m\u001b[0;34m\u001b[0m\u001b[0m\n\u001b[0;32m---> 33\u001b[0;31m \u001b[0mC_list\u001b[0m \u001b[0;34m=\u001b[0m \u001b[0;34m[\u001b[0m\u001b[0maverage_correlation_function\u001b[0m\u001b[0;34m(\u001b[0m\u001b[0mU_list\u001b[0m\u001b[0;34m,\u001b[0m \u001b[0mneighbor_table\u001b[0m\u001b[0;34m,\u001b[0m \u001b[0mN1\u001b[0m\u001b[0;34m,\u001b[0m \u001b[0mN2\u001b[0m\u001b[0;34m,\u001b[0m \u001b[0mt\u001b[0m\u001b[0;34m)\u001b[0m \u001b[0;32mfor\u001b[0m \u001b[0mt\u001b[0m \u001b[0;32min\u001b[0m \u001b[0mt_list\u001b[0m\u001b[0;34m]\u001b[0m\u001b[0;34m\u001b[0m\u001b[0;34m\u001b[0m\u001b[0m\n\u001b[0m\u001b[1;32m     34\u001b[0m \u001b[0;34m\u001b[0m\u001b[0m\n\u001b[1;32m     35\u001b[0m \u001b[0mplt\u001b[0m\u001b[0;34m.\u001b[0m\u001b[0mplot\u001b[0m\u001b[0;34m(\u001b[0m\u001b[0mt_list\u001b[0m\u001b[0;34m,\u001b[0m \u001b[0mC_list\u001b[0m\u001b[0;34m)\u001b[0m\u001b[0;34m\u001b[0m\u001b[0;34m\u001b[0m\u001b[0m\n",
            "\u001b[0;32m<ipython-input-11-bbcf4dacca1e>\u001b[0m in \u001b[0;36m<listcomp>\u001b[0;34m(.0)\u001b[0m\n\u001b[1;32m     31\u001b[0m \u001b[0;34m\u001b[0m\u001b[0m\n\u001b[1;32m     32\u001b[0m \u001b[0mt_list\u001b[0m \u001b[0;34m=\u001b[0m \u001b[0mnp\u001b[0m\u001b[0;34m.\u001b[0m\u001b[0marange\u001b[0m\u001b[0;34m(\u001b[0m\u001b[0;36m0\u001b[0m\u001b[0;34m,\u001b[0m \u001b[0mN1\u001b[0m\u001b[0;34m)\u001b[0m\u001b[0;34m\u001b[0m\u001b[0;34m\u001b[0m\u001b[0m\n\u001b[0;32m---> 33\u001b[0;31m \u001b[0mC_list\u001b[0m \u001b[0;34m=\u001b[0m \u001b[0;34m[\u001b[0m\u001b[0maverage_correlation_function\u001b[0m\u001b[0;34m(\u001b[0m\u001b[0mU_list\u001b[0m\u001b[0;34m,\u001b[0m \u001b[0mneighbor_table\u001b[0m\u001b[0;34m,\u001b[0m \u001b[0mN1\u001b[0m\u001b[0;34m,\u001b[0m \u001b[0mN2\u001b[0m\u001b[0;34m,\u001b[0m \u001b[0mt\u001b[0m\u001b[0;34m)\u001b[0m \u001b[0;32mfor\u001b[0m \u001b[0mt\u001b[0m \u001b[0;32min\u001b[0m \u001b[0mt_list\u001b[0m\u001b[0;34m]\u001b[0m\u001b[0;34m\u001b[0m\u001b[0;34m\u001b[0m\u001b[0m\n\u001b[0m\u001b[1;32m     34\u001b[0m \u001b[0;34m\u001b[0m\u001b[0m\n\u001b[1;32m     35\u001b[0m \u001b[0mplt\u001b[0m\u001b[0;34m.\u001b[0m\u001b[0mplot\u001b[0m\u001b[0;34m(\u001b[0m\u001b[0mt_list\u001b[0m\u001b[0;34m,\u001b[0m \u001b[0mC_list\u001b[0m\u001b[0;34m)\u001b[0m\u001b[0;34m\u001b[0m\u001b[0;34m\u001b[0m\u001b[0m\n",
            "\u001b[0;32m<ipython-input-11-bbcf4dacca1e>\u001b[0m in \u001b[0;36maverage_correlation_function\u001b[0;34m(U_list, neighbor_table, N1, N2, t, m)\u001b[0m\n\u001b[1;32m     22\u001b[0m         \u001b[0mei\u001b[0m\u001b[0;34m[\u001b[0m\u001b[0mi\u001b[0m\u001b[0;34m]\u001b[0m \u001b[0;34m=\u001b[0m \u001b[0;36m1\u001b[0m\u001b[0;34m\u001b[0m\u001b[0;34m\u001b[0m\u001b[0m\n\u001b[1;32m     23\u001b[0m         \u001b[0mv\u001b[0m \u001b[0;34m=\u001b[0m \u001b[0mnp\u001b[0m\u001b[0;34m.\u001b[0m\u001b[0mzeros\u001b[0m\u001b[0;34m(\u001b[0m\u001b[0mN\u001b[0m\u001b[0;34m,\u001b[0m \u001b[0mdtype\u001b[0m\u001b[0;34m=\u001b[0m\u001b[0mnp\u001b[0m\u001b[0;34m.\u001b[0m\u001b[0mcomplex\u001b[0m\u001b[0;34m)\u001b[0m\u001b[0;34m\u001b[0m\u001b[0;34m\u001b[0m\u001b[0m\n\u001b[0;32m---> 24\u001b[0;31m         \u001b[0;32mfor\u001b[0m \u001b[0mU\u001b[0m \u001b[0;32min\u001b[0m \u001b[0mU_list\u001b[0m\u001b[0;34m:\u001b[0m\u001b[0;34m\u001b[0m\u001b[0;34m\u001b[0m\u001b[0m\n\u001b[0m\u001b[1;32m     25\u001b[0m             \u001b[0mv\u001b[0m \u001b[0;34m+=\u001b[0m \u001b[0mnp\u001b[0m\u001b[0;34m.\u001b[0m\u001b[0mabs\u001b[0m\u001b[0;34m(\u001b[0m\u001b[0mnp\u001b[0m\u001b[0;34m.\u001b[0m\u001b[0mlinalg\u001b[0m\u001b[0;34m.\u001b[0m\u001b[0msolve\u001b[0m\u001b[0;34m(\u001b[0m\u001b[0mD\u001b[0m\u001b[0;34m,\u001b[0m \u001b[0mei\u001b[0m\u001b[0;34m)\u001b[0m\u001b[0;34m)\u001b[0m\u001b[0;34m**\u001b[0m\u001b[0;36m2\u001b[0m\u001b[0;34m\u001b[0m\u001b[0;34m\u001b[0m\u001b[0m\n\u001b[1;32m     26\u001b[0m         \u001b[0mC\u001b[0m \u001b[0;34m+=\u001b[0m \u001b[0mv\u001b[0m\u001b[0;34m[\u001b[0m\u001b[0mi\u001b[0m \u001b[0;34m+\u001b[0m \u001b[0mt\u001b[0m\u001b[0;34m*\u001b[0m\u001b[0mN2\u001b[0m\u001b[0;34m]\u001b[0m\u001b[0;34m\u001b[0m\u001b[0;34m\u001b[0m\u001b[0m\n",
            "\u001b[0;31mTypeError\u001b[0m: 'ellipsis' object is not iterable"
          ]
        }
      ]
    },
    {
      "cell_type": "code",
      "source": [
        "import numpy as np\n",
        "\n",
        "def create_local_neighbor_table(neighbor_table, N1, N2, N_loc1, N_loc2, rank):\n",
        "    \"\"\"Creates a local neighbor table for each process.\n",
        "\n",
        "    Args:\n",
        "    - neighbor_table: 4 x N1N2 numpy array representing the neighbor table\n",
        "    - N1: number of lattice sites in the 1st dimension\n",
        "    - N2: number of lattice sites in the 2nd dimension\n",
        "    - N_loc1: number of sites in the 1st dimension for each process\n",
        "    - N_loc2: number of sites in the 2nd dimension for each process\n",
        "    - rank: rank of the process\n",
        "\n",
        "    Returns:\n",
        "    - local_neighbor_table: 4 x N_loc1N_loc2 numpy array representing the local neighbor table\n",
        "    \"\"\"\n",
        "    local_neighbor_table = np.copy(neighbor_table)\n",
        "    start_idx = rank * N_loc1 * N_loc2\n",
        "    end_idx = (rank + 1) * N_loc1 * N_loc2\n",
        "    local_neighbor_table[local_neighbor_table >= start_idx] -= start_idx\n",
        "    local_neighbor_table[local_neighbor_table < end_idx - N_loc1 * N_loc2] += N1 * N2 - end_idx\n",
        "    return local_neighbor_table\n",
        "N_loc1 = 6\n",
        "N_loc2 = 6\n",
        "rank = 3\n",
        "# Example usage\n",
        "neighbor_table = construct_neighbor_table(N1, N2)\n",
        "local_neighbor_table = create_local_neighbor_table(neighbor_table, N1, N2, N_loc1, N_loc2, rank)"
      ],
      "metadata": {
        "id": "2H4HBOr_uHk2"
      },
      "execution_count": null,
      "outputs": []
    },
    {
      "cell_type": "code",
      "source": [
        "def apply_D(D, U, neighbor_table, N1, N2, N_procs, N_loc1, N_loc2, proc_id, m=0.4):\n",
        "    \"\"\"Applies the matrix D to a vector, given a gauge field U and neighbor table.\n",
        "\n",
        "    Args:\n",
        "    - D: N x N numpy array representing the matrix D\n",
        "    - U: 4D numpy array representing the gauge field\n",
        "    - neighbor_table: 4 x N1N2 numpy array representing the neighbor table\n",
        "    - N1: number of lattice sites in the 1st dimension\n",
        "    - N2: number of lattice sites in the 2nd dimension\n",
        "    - N_procs: number of processes\n",
        "    - N_loc1: number of local lattice sites in the 1st dimension\n",
        "    - N_loc2: number of local lattice sites in the 2nd dimension\n",
        "    - proc_id: process ID\n",
        "    - m: scalar, mass parameter\n",
        "\n",
        "    Returns:\n",
        "    - vector representing the result of applying D to the input vector\n",
        "    \"\"\"\n",
        "    N = N1 * N2\n",
        "    N_loc = N_loc1 * N_loc2\n",
        "\n",
        "    # Calculate the start and end indices for the local lattice\n",
        "    start_idx = proc_id * N_loc\n",
        "    end_idx = (proc_id + 1) * N_loc\n",
        "\n",
        "    # Initialize result vector\n",
        "    result = np.zeros(N_loc, dtype=np.complex)\n",
        "\n",
        "    # Loop only over the inner points of the local lattice\n",
        "    for i in range(start_idx, end_idx):\n",
        "        x, y = i // N2, i % N2\n",
        "        if x >= N_loc1 or y >= N_loc2:\n",
        "            continue\n",
        "        idx = x * N2 + y\n",
        "        for mu in range(4):\n",
        "            j = neighbor_table[mu][idx]\n",
        "            if j == -1:\n",
        "                continue\n",
        "            U_mu = U[mu][idx]\n",
        "            result[idx] += U_mu * v[j]\n",
        "\n",
        "    return result"
      ],
      "metadata": {
        "id": "9msVNYuMuMox"
      },
      "execution_count": null,
      "outputs": []
    },
    {
      "cell_type": "code",
      "source": [
        "import time\n",
        "\n",
        "def experiment_with_splittings(full_volume, processes, N_locs_list):\n",
        "    \"\"\"Experiments with different splittings of the full volume into subvolumes of different size processes.\n",
        "\n",
        "    Args:\n",
        "    - full_volume: numpy array representing the full volume\n",
        "    - processes: list of Process objects\n",
        "    - N_locs_list: list of tuples, each tuple represents the number of lattice sites in the local volume in each dimension\n",
        "\n",
        "    Returns:\n",
        "    - timing_results: list of tuples, each tuple contains the N_locs and the timing for that splitting\n",
        "    \"\"\"\n",
        "    timing_results = []\n",
        "    for N_locs in N_locs_list:\n",
        "        N1_loc, N2_loc = N_locs\n",
        "        split_volume = split_full_volume(full_volume, N1_loc, N2_loc)\n",
        "        start = time.time()\n",
        "        run_parallel_CG(split_volume, processes)\n",
        "        end = time.time()\n",
        "        timing = end - start\n",
        "        timing_results.append((N_locs, timing))\n",
        "    return timing_results\n",
        "\n",
        "# Example usage:\n",
        "# - full_volume is a 4D numpy array representing the full volume\n",
        "# - processes is a list of 4 Process objects, one for each dimension\n",
        "# - N_locs_list is a list of tuples, each tuple representing the number of lattice sites in the local volume in each dimension\n",
        "timing_results = experiment_with_splittings(full_volume, processes, N_locs_list)\n",
        "\n",
        "# timing_results is a list of tuples, each tuple contains the N_locs and the timing for that splitting\n",
        "for N_locs, timing in timing_results:\n",
        "    print(f\"N_locs={N_locs}, timing={timing}\")"
      ],
      "metadata": {
        "colab": {
          "base_uri": "https://localhost:8080/",
          "height": 244
        },
        "id": "UxT4J84Xu2M7",
        "outputId": "2f18d573-9f1d-4318-b0d9-d853eacd3caf"
      },
      "execution_count": null,
      "outputs": [
        {
          "output_type": "error",
          "ename": "NameError",
          "evalue": "ignored",
          "traceback": [
            "\u001b[0;31m---------------------------------------------------------------------------\u001b[0m",
            "\u001b[0;31mNameError\u001b[0m                                 Traceback (most recent call last)",
            "\u001b[0;32m<ipython-input-14-b34ec3fdaa5a>\u001b[0m in \u001b[0;36m<module>\u001b[0;34m\u001b[0m\n\u001b[1;32m     27\u001b[0m \u001b[0;31m# - processes is a list of 4 Process objects, one for each dimension\u001b[0m\u001b[0;34m\u001b[0m\u001b[0;34m\u001b[0m\u001b[0;34m\u001b[0m\u001b[0m\n\u001b[1;32m     28\u001b[0m \u001b[0;31m# - N_locs_list is a list of tuples, each tuple representing the number of lattice sites in the local volume in each dimension\u001b[0m\u001b[0;34m\u001b[0m\u001b[0;34m\u001b[0m\u001b[0;34m\u001b[0m\u001b[0m\n\u001b[0;32m---> 29\u001b[0;31m \u001b[0mtiming_results\u001b[0m \u001b[0;34m=\u001b[0m \u001b[0mexperiment_with_splittings\u001b[0m\u001b[0;34m(\u001b[0m\u001b[0mfull_volume\u001b[0m\u001b[0;34m,\u001b[0m \u001b[0mprocesses\u001b[0m\u001b[0;34m,\u001b[0m \u001b[0mN_locs_list\u001b[0m\u001b[0;34m)\u001b[0m\u001b[0;34m\u001b[0m\u001b[0;34m\u001b[0m\u001b[0m\n\u001b[0m\u001b[1;32m     30\u001b[0m \u001b[0;34m\u001b[0m\u001b[0m\n\u001b[1;32m     31\u001b[0m \u001b[0;31m# timing_results is a list of tuples, each tuple contains the N_locs and the timing for that splitting\u001b[0m\u001b[0;34m\u001b[0m\u001b[0;34m\u001b[0m\u001b[0;34m\u001b[0m\u001b[0m\n",
            "\u001b[0;31mNameError\u001b[0m: name 'full_volume' is not defined"
          ]
        }
      ]
    },
    {
      "cell_type": "markdown",
      "source": [
        "---------"
      ],
      "metadata": {
        "id": "XO2US5t7vsoP"
      }
    }
  ]
}