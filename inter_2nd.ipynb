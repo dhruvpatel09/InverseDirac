{
  "nbformat": 4,
  "nbformat_minor": 0,
  "metadata": {
    "colab": {
      "provenance": []
    },
    "kernelspec": {
      "name": "python3",
      "display_name": "Python 3"
    },
    "language_info": {
      "name": "python"
    }
  },
  "cells": [
    {
      "cell_type": "markdown",
      "source": [
        "# ***Inversion of Dirac Matrix***\n",
        "\n",
        "*   Authors: *Dhruv Patel and Anselem Okeke*\n",
        "*   Matriculation no.'s: *2130292 and 1943585*\n",
        "*   Subject: *Introduction to Computer Simulation II*\n",
        "*   Semester: *Winter Term 2022/2023*\n",
        "*   Date: *30th January, 2023*"
      ],
      "metadata": {
        "id": "eHEOfjgmYNzT"
      }
    },
    {
      "cell_type": "markdown",
      "source": [
        "---------"
      ],
      "metadata": {
        "id": "LnZc4zQ-YPaS"
      }
    },
    {
      "cell_type": "code",
      "source": [
        "# importing essential functions\n",
        "\n",
        "import numpy as np\n",
        "import math\n",
        "import matplotlib.pylab as plt"
      ],
      "metadata": {
        "id": "F5yhTHgkZ2x7"
      },
      "execution_count": null,
      "outputs": []
    },
    {
      "cell_type": "code",
      "source": [
        "# to mount the Google Drive for accessing the input files\n",
        "\n",
        "from google.colab import drive\n",
        "drive.mount('/content/drive/', force_remount=True)\n",
        "\n",
        "with open('/content/drive/MyDrive/CSim3/U_files/U_1', 'r') as f:\n",
        "  f.read()"
      ],
      "metadata": {
        "colab": {
          "base_uri": "https://localhost:8080/"
        },
        "id": "4O7W98VtbSGJ",
        "outputId": "6bfcc481-3a1f-41bb-cdc6-04602b773916"
      },
      "execution_count": null,
      "outputs": [
        {
          "output_type": "stream",
          "name": "stdout",
          "text": [
            "Mounted at /content/drive/\n"
          ]
        }
      ]
    },
    {
      "cell_type": "code",
      "source": [
        "def LinearCG(A, b, x0, tol=1e-5):\n",
        "    xk = x0\n",
        "    rk = np.dot(A, xk) - b\n",
        "    pk = -rk\n",
        "    rk_norm = np.linalg.norm(rk)\n",
        "\n",
        "    num_iter = 0\n",
        "    curve_x = [xk]\n",
        "    while rk_norm > tol:\n",
        "        apk = np.dot(A, pk)\n",
        "        rkrk = np.dot(rk, rk)\n",
        "\n",
        "        alpha = rkrk / np.dot(pk, apk)\n",
        "        xk = xk + alpha * pk\n",
        "        rk = rk + alpha * apk\n",
        "        beta = np.dot(rk, rk) / rkrk\n",
        "        pk = -rk + beta * pk\n",
        "\n",
        "        num_iter += 1\n",
        "        curve_x.append(xk)\n",
        "        rk_norm = np.linalg.norm(rk)\n",
        "        print('Iteration: ' + num_iter + '\\t x = ' + xk + '\\t residual = ' + rk_norm)\n",
        "\n",
        "    print('\\nSolution: \\t x = ' + xk)\n",
        "\n",
        "    return np.array(curve_x)"
      ],
      "metadata": {
        "id": "85PEKncNJDPa"
      },
      "execution_count": null,
      "outputs": []
    },
    {
      "cell_type": "code",
      "source": [
        "def correlation(n1, n2, inverse_D):\n",
        "  x = np.eye(n1)\n",
        "  total = 0\n",
        "  c = np.zeros(n1)\n",
        "\n",
        "  for t in range(1, n1):\n",
        "    for q in range(1, n2+1):\n",
        "      for r in range(1, n1):\n",
        "        p = r + (q - 1) * n1\n",
        "        result = np.matmul(inverse_D, x[:][p])\n",
        "\n",
        "        if (p + t * n1) > (r + (n2 - 1) * n1):\n",
        "          num = (p + t * n1) - (n1 * n2)\n",
        "          total = total + (np.absolute(result(num))) ^ 2\n",
        "        else:\n",
        "          total = total + (np.absolute(result(p+t*n1))) ^ 2\n",
        "\n",
        "    c[t] = (1/(n1*n2)) * total"
      ],
      "metadata": {
        "id": "em60X75ag7Sv"
      },
      "execution_count": null,
      "outputs": []
    }
  ]
}